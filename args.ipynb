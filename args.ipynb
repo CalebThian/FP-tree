{
 "cells": [
  {
   "cell_type": "code",
   "execution_count": null,
   "id": "51d2667f",
   "metadata": {},
   "outputs": [],
   "source": [
    "import argparse\n",
    "\n",
    "def parse_args():\n",
    "    p = argparse.ArgumentParser()\n",
    "\n",
    "    def a(*args, **kwargs):\n",
    "        p.add_argument(*args, **kwargs)\n",
    "\n",
    "    a('--min_sup', type=float, default=0.02, help='Minimum support')\n",
    "    a('--min_conf', type=float, default=0.05, help='Minimum confidence')\n",
    "    a('--dataset', type=str, default='ibm-2021.txt', help='Dataset to use, please include the extension')\n",
    "\n",
    "    return p.parse_args()"
   ]
  }
 ],
 "metadata": {
  "kernelspec": {
   "display_name": "Python 3 (ipykernel)",
   "language": "python",
   "name": "python3"
  },
  "language_info": {
   "codemirror_mode": {
    "name": "ipython",
    "version": 3
   },
   "file_extension": ".py",
   "mimetype": "text/x-python",
   "name": "python",
   "nbconvert_exporter": "python",
   "pygments_lexer": "ipython3",
   "version": "3.8.5"
  }
 },
 "nbformat": 4,
 "nbformat_minor": 5
}
