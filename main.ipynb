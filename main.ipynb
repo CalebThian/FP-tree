{
 "cells": [
  {
   "cell_type": "code",
   "execution_count": 2,
   "id": "cb9f1074",
   "metadata": {},
   "outputs": [
    {
     "name": "stderr",
     "output_type": "stream",
     "text": [
      "usage: ipykernel_launcher.py [-h] [--min_sup MIN_SUP] [--min_conf MIN_CONF]\n",
      "                             [--dataset DATASET]\n",
      "ipykernel_launcher.py: error: unrecognized arguments: -f C:\\Users\\caleb\\AppData\\Roaming\\jupyter\\runtime\\kernel-a49cf41d-f5b9-447c-8285-92ba93a00f01.json\n"
     ]
    },
    {
     "ename": "SystemExit",
     "evalue": "2",
     "output_type": "error",
     "traceback": [
      "An exception has occurred, use %tb to see the full traceback.\n",
      "\u001b[1;31mSystemExit\u001b[0m\u001b[1;31m:\u001b[0m 2\n"
     ]
    }
   ],
   "source": [
    "\"\"\"\n",
    "The entry point of the program\n",
    "\n",
    "First of all, you don't have to follow the structure of this file,\n",
    "but please make sure that: (1)we can run your code by running this file,\n",
    "(2)it can generate the output files, and (3)it can accept the command line arguments.\n",
    "\n",
    "Please implement the `apriori` and `fp_growth` functions in\n",
    "the `my_cool_algorithms.py` file (or any module name you prefer).\n",
    "\n",
    "The `input_data` is a list of lists of integers. Each inner list\n",
    "is in the form of [transaction_id, transaction_id, item_id].\n",
    "For example, the following input data contains 2 transactions,\n",
    "transaction 1 contains 2 items 9192, 31651;\n",
    "transaction 2 contains 2 items 26134, 57515.\n",
    "\n",
    "[\n",
    "    [1, 1, 9192],\n",
    "    [1, 1, 31651],\n",
    "    [2, 2, 26134],\n",
    "    [2, 2, 57515],\n",
    "]\n",
    "\n",
    "\n",
    "The `a` is a `Namespace` object that contains the following attributes:\n",
    "    - dataset: the name of the dataset\n",
    "    - min_sup: the minimum support\n",
    "    - min_conf: the minimum confidence\n",
    "you can access them by `a.dataset`, `a.min_sup`, `a.min_conf`.\n",
    "\"\"\"\n",
    "from pathlib import Path\n",
    "from typing import List\n",
    "import utils\n",
    "from utils import l\n",
    "import config\n",
    "import args\n",
    "\n",
    "# TODO: you have to implement this module by yourself\n",
    "# import my_cool_algorithms\n",
    "\n",
    "def main():\n",
    "    # Parse command line arguments\n",
    "    a = args.parse_args()\n",
    "    l.info(f\"Arguments: {a}\")\n",
    "\n",
    "    # Load dataset, the below io handles ibm dataset\n",
    "    input_data: List[List[str]] = utils.read_file(config.IN_DIR / a.dataset)\n",
    "    filename = Path(a.dataset).stem\n",
    "\n",
    "    # # TODO: you have to implement this function by yourself\n",
    "    # apriori_out = my_cool_algorithms.apriori(input_data, a)\n",
    "    # # Write output to file\n",
    "    # utils.write_file(\n",
    "    #     data=apriori_out,\n",
    "    #     filename=config.OUT_DIR / f\"{filename}-apriori.csv\"\n",
    "    # )\n",
    "\n",
    "    # # TODO: you have to implement this function by yourself\n",
    "    # fp_growth_out = my_cool_algorithms.fp_growth(input_data, a)\n",
    "    # # Write output to file\n",
    "    # utils.write_file(\n",
    "    #     data=fp_growth_out,\n",
    "    #     filename=config.OUT_DIR / f\"{filename}-fp_growth.csv\"\n",
    "    # )\n",
    "\n",
    "if __name__ == \"__main__\":\n",
    "    main()"
   ]
  },
  {
   "cell_type": "code",
   "execution_count": null,
   "id": "3de9a46d",
   "metadata": {},
   "outputs": [],
   "source": []
  }
 ],
 "metadata": {
  "kernelspec": {
   "display_name": "Python 3 (ipykernel)",
   "language": "python",
   "name": "python3"
  },
  "language_info": {
   "codemirror_mode": {
    "name": "ipython",
    "version": 3
   },
   "file_extension": ".py",
   "mimetype": "text/x-python",
   "name": "python",
   "nbconvert_exporter": "python",
   "pygments_lexer": "ipython3",
   "version": "3.8.5"
  }
 },
 "nbformat": 4,
 "nbformat_minor": 5
}
