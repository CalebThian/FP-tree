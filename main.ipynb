{
 "cells": [
  {
   "cell_type": "code",
   "execution_count": 2,
   "id": "cb9f1074",
   "metadata": {},
   "outputs": [
    {
     "name": "stderr",
     "output_type": "stream",
     "text": [
      "usage: ipykernel_launcher.py [-h] [--min_sup MIN_SUP] [--min_conf MIN_CONF]\n",
      "                             [--dataset DATASET]\n",
      "ipykernel_launcher.py: error: unrecognized arguments: -f C:\\Users\\caleb\\AppData\\Roaming\\jupyter\\runtime\\kernel-a49cf41d-f5b9-447c-8285-92ba93a00f01.json\n"
     ]
    },
    {
     "ename": "SystemExit",
     "evalue": "2",
     "output_type": "error",
     "traceback": [
      "An exception has occurred, use %tb to see the full traceback.\n",
      "\u001b[1;31mSystemExit\u001b[0m\u001b[1;31m:\u001b[0m 2\n"
     ]
    }
   ],
   "source": [
    "\"\"\"\n",
    "The entry point of the program\n",
    "\n",
    "First of all, you don't have to follow the structure of this file,\n",
    "but please make sure that: (1)we can run your code by running this file,\n",
    "(2)it can generate the output files, and (3)it can accept the command line arguments.\n",
    "\n",
    "Please implement the `apriori` and `fp_growth` functions in\n",
    "the `my_cool_algorithms.py` file (or any module name you prefer).\n",
    "\n",
    "The `input_data` is a list of lists of integers. Each inner list\n",
    "is in the form of [transaction_id, transaction_id, item_id].\n",
    "For example, the following input data contains 2 transactions,\n",
    "transaction 1 contains 2 items 9192, 31651;\n",
    "transaction 2 contains 2 items 26134, 57515.\n",
    "\n",
    "[\n",
    "    [1, 1, 9192],\n",
    "    [1, 1, 31651],\n",
    "    [2, 2, 26134],\n",
    "    [2, 2, 57515],\n",
    "]\n",
    "\n",
    "\n",
    "The `a` is a `Namespace` object that contains the following attributes:\n",
    "    - dataset: the name of the dataset\n",
    "    - min_sup: the minimum support\n",
    "    - min_conf: the minimum confidence\n",
    "you can access them by `a.dataset`, `a.min_sup`, `a.min_conf`.\n",
    "\"\"\"\n",
    "from pathlib import Path\n",
    "from typing import List\n",
    "import utils\n",
    "from utils import l\n",
    "import config\n",
    "import args\n",
    "\n",
    "# TODO: you have to implement this module by yourself\n",
    "# import my_cool_algorithms\n",
    "\n",
    "def main():\n",
    "    # Parse command line arguments\n",
    "    a = args.parse_args()\n",
    "    l.info(f\"Arguments: {a}\")\n",
    "\n",
    "    # Load dataset, the below io handles ibm dataset\n",
    "    input_data: List[List[str]] = utils.read_file(config.IN_DIR / a.dataset)\n",
    "    filename = Path(a.dataset).stem\n",
    "\n",
    "    # # TODO: you have to implement this function by yourself\n",
    "    # apriori_out = my_cool_algorithms.apriori(input_data, a)\n",
    "    # # Write output to file\n",
    "    # utils.write_file(\n",
    "    #     data=apriori_out,\n",
    "    #     filename=config.OUT_DIR / f\"{filename}-apriori.csv\"\n",
    "    # )\n",
    "\n",
    "    # # TODO: you have to implement this function by yourself\n",
    "    # fp_growth_out = my_cool_algorithms.fp_growth(input_data, a)\n",
    "    # # Write output to file\n",
    "    # utils.write_file(\n",
    "    #     data=fp_growth_out,\n",
    "    #     filename=config.OUT_DIR / f\"{filename}-fp_growth.csv\"\n",
    "    # )\n",
    "\n",
    "if __name__ == \"__main__\":\n",
    "    main()"
   ]
  },
  {
   "cell_type": "code",
   "execution_count": 1,
   "id": "3de9a46d",
   "metadata": {},
   "outputs": [
    {
     "data": {
      "text/plain": [
       "2"
      ]
     },
     "execution_count": 1,
     "metadata": {},
     "output_type": "execute_result"
    }
   ],
   "source": [
    "s1 = {0,1,2}\n",
    "s2 = {1,2,4}\n",
    "len(s1&s2)"
   ]
  },
  {
   "cell_type": "code",
   "execution_count": 2,
   "id": "e5a8b3a4",
   "metadata": {},
   "outputs": [
    {
     "data": {
      "text/plain": [
       "{0}"
      ]
     },
     "execution_count": 2,
     "metadata": {},
     "output_type": "execute_result"
    }
   ],
   "source": [
    "d1 = s1-s2\n",
    "d1"
   ]
  },
  {
   "cell_type": "code",
   "execution_count": 3,
   "id": "9f683f10",
   "metadata": {},
   "outputs": [
    {
     "name": "stdout",
     "output_type": "stream",
     "text": [
      "1\n",
      "2\n"
     ]
    }
   ],
   "source": [
    "for s in s1&s2:\n",
    "    print(s)"
   ]
  },
  {
   "cell_type": "code",
   "execution_count": 4,
   "id": "446ae8fe",
   "metadata": {},
   "outputs": [
    {
     "name": "stdout",
     "output_type": "stream",
     "text": [
      "[1, 2, 5]\n"
     ]
    }
   ],
   "source": [
    "s=(s1&s2)|{5}\n",
    "print(list(s))"
   ]
  },
  {
   "cell_type": "code",
   "execution_count": 5,
   "id": "ea033c46",
   "metadata": {},
   "outputs": [
    {
     "ename": "TypeError",
     "evalue": "unhashable type: 'set'",
     "output_type": "error",
     "traceback": [
      "\u001b[1;31m---------------------------------------------------------------------------\u001b[0m",
      "\u001b[1;31mTypeError\u001b[0m                                 Traceback (most recent call last)",
      "\u001b[1;32m~\\AppData\\Local\\Temp/ipykernel_18240/1967641493.py\u001b[0m in \u001b[0;36m<module>\u001b[1;34m\u001b[0m\n\u001b[0;32m      1\u001b[0m \u001b[0mS\u001b[0m \u001b[1;33m=\u001b[0m\u001b[0mset\u001b[0m\u001b[1;33m(\u001b[0m\u001b[1;33m)\u001b[0m\u001b[1;33m\u001b[0m\u001b[1;33m\u001b[0m\u001b[0m\n\u001b[1;32m----> 2\u001b[1;33m \u001b[0mS\u001b[0m\u001b[1;33m.\u001b[0m\u001b[0madd\u001b[0m\u001b[1;33m(\u001b[0m\u001b[0ms\u001b[0m\u001b[1;33m)\u001b[0m\u001b[1;33m\u001b[0m\u001b[1;33m\u001b[0m\u001b[0m\n\u001b[0m",
      "\u001b[1;31mTypeError\u001b[0m: unhashable type: 'set'"
     ]
    }
   ],
   "source": [
    "S =set()\n",
    "S.add(s)"
   ]
  },
  {
   "cell_type": "code",
   "execution_count": 6,
   "id": "7b690d85",
   "metadata": {},
   "outputs": [],
   "source": [
    "node = {'item':1,\n",
    "        'count':1,\n",
    "        'fnode':[]\n",
    "}"
   ]
  },
  {
   "cell_type": "code",
   "execution_count": 7,
   "id": "372ad380",
   "metadata": {},
   "outputs": [
    {
     "data": {
      "text/plain": [
       "{'item': 1, 'count': 1, 'fnode': []}"
      ]
     },
     "execution_count": 7,
     "metadata": {},
     "output_type": "execute_result"
    }
   ],
   "source": [
    "node"
   ]
  },
  {
   "cell_type": "code",
   "execution_count": 10,
   "id": "bede8da7",
   "metadata": {},
   "outputs": [
    {
     "data": {
      "text/plain": [
       "{'12', '13', '21'}"
      ]
     },
     "execution_count": 10,
     "metadata": {},
     "output_type": "execute_result"
    }
   ],
   "source": [
    "set(['12','13','21','12'])"
   ]
  },
  {
   "cell_type": "code",
   "execution_count": 16,
   "id": "d354f298",
   "metadata": {},
   "outputs": [
    {
     "data": {
      "text/plain": [
       "[[1], [1, 2], [1, 2, 3]]"
      ]
     },
     "execution_count": 16,
     "metadata": {},
     "output_type": "execute_result"
    }
   ],
   "source": [
    "p = ['1 2 3','1','1 2']\n",
    "p = list(map(str2numbers,p))\n",
    "sorted(p,key=len)"
   ]
  },
  {
   "cell_type": "code",
   "execution_count": 15,
   "id": "2d158cc2",
   "metadata": {},
   "outputs": [],
   "source": [
    "def str2numbers(s): # Convert str/key to int list\n",
    "    if isinstance(s, str):\n",
    "        strs = s.split()\n",
    "        numbers = []\n",
    "        for n in strs:\n",
    "            numbers.append(int(n))\n",
    "    elif isinstance(s,int):\n",
    "        numbers = [s]\n",
    "    return numbers"
   ]
  },
  {
   "cell_type": "code",
   "execution_count": 18,
   "id": "59abe2a1",
   "metadata": {},
   "outputs": [
    {
     "data": {
      "text/plain": [
       "True"
      ]
     },
     "execution_count": 18,
     "metadata": {},
     "output_type": "execute_result"
    }
   ],
   "source": [
    "'1 4' in '1 4 2'"
   ]
  },
  {
   "cell_type": "code",
   "execution_count": 17,
   "id": "1ef852bd",
   "metadata": {},
   "outputs": [],
   "source": [
    "def combinations(arr, n,k):\n",
    "    combs = []\n",
    "    for i in range(n):\n",
    "        for j in range(i+k-1,n):\n",
    "            temp = arr[i:i+k-1]\n",
    "            temp.append(arr[j])\n",
    "            combs.append(list2key(temp))\n",
    "            print(temp)\n",
    "    print(f\"{k}:{combs}\")\n",
    "    return combs"
   ]
  },
  {
   "cell_type": "code",
   "execution_count": 3,
   "id": "863b0cbe",
   "metadata": {},
   "outputs": [],
   "source": [
    "def sw_inc(sel_win,maximum): #sel_win increment, maximum is the maximum number it can have\n",
    "    for i in range(len(sel_win)-1,-1,-1):\n",
    "        if sel_win[i] != maximum-(len(sel_win)-1-i): # example: [0 3 4] for maximum = 4, next should be [1,2,3] but not [0 4 ?]\n",
    "            sel_win[i] += 1\n",
    "            for j in range(i+1,len(sel_win)):\n",
    "                sel_win[j] = sel_win[j-1]+1\n",
    "            return sel_win\n",
    "    return -1\n",
    "            \n",
    "def subset(items,k):\n",
    "    sel_win = []\n",
    "    subsets = []\n",
    "    for i in range(k):\n",
    "        sel_win.append(0)\n",
    "        \n",
    "    while True:\n",
    "        sel_win = sw_inc(sel_win,len(items)-1)\n",
    "        if sel_win==-1:\n",
    "            break\n",
    "        subset = []\n",
    "        for i in range(k):\n",
    "            subset.append(items[sel_win[i]])\n",
    "        subset.sort()\n",
    "        key = list2key(subset)\n",
    "        subsets.append(key)\n",
    "    return subsets"
   ]
  },
  {
   "cell_type": "code",
   "execution_count": 24,
   "id": "ae5e7528",
   "metadata": {},
   "outputs": [],
   "source": [
    "def list2key(List): # Same as list2str, but include sort\n",
    "    #print(f\"{List} to key: \",end=\"\")\n",
    "    List.sort()\n",
    "    key = list2str(List)\n",
    "    #print(key)\n",
    "    return key\n",
    "def list2str(List): # Convert list of int to str\n",
    "    s = \"\"\n",
    "    for i in range(len(List)):\n",
    "        if i != 0:\n",
    "            s += \" \"\n",
    "        s += str(List[i])\n",
    "    return s"
   ]
  },
  {
   "cell_type": "code",
   "execution_count": 25,
   "id": "87f6f87d",
   "metadata": {},
   "outputs": [
    {
     "name": "stdout",
     "output_type": "stream",
     "text": [
      "[1, 2, 3]\n",
      "[1, 2, 5]\n",
      "[1, 2, 6]\n",
      "[1, 2, 7]\n",
      "[2, 3, 5]\n",
      "[2, 3, 6]\n",
      "[2, 3, 7]\n",
      "[3, 5, 6]\n",
      "[3, 5, 7]\n",
      "[5, 6, 7]\n",
      "3:['1 2 3', '1 2 5', '1 2 6', '1 2 7', '2 3 5', '2 3 6', '2 3 7', '3 5 6', '3 5 7', '5 6 7']\n"
     ]
    },
    {
     "data": {
      "text/plain": [
       "['1 2 3',\n",
       " '1 2 5',\n",
       " '1 2 6',\n",
       " '1 2 7',\n",
       " '2 3 5',\n",
       " '2 3 6',\n",
       " '2 3 7',\n",
       " '3 5 6',\n",
       " '3 5 7',\n",
       " '5 6 7']"
      ]
     },
     "execution_count": 25,
     "metadata": {},
     "output_type": "execute_result"
    }
   ],
   "source": [
    "arr = [1,2,3,5,6,7]\n",
    "combinations(arr,len(arr),3)"
   ]
  },
  {
   "cell_type": "code",
   "execution_count": 27,
   "id": "f03cdd7e",
   "metadata": {},
   "outputs": [
    {
     "name": "stdout",
     "output_type": "stream",
     "text": [
      "[1, 2, 3]\n",
      "[1, 2, 4]\n",
      "[1, 2, 5]\n",
      "[1, 2, 6]\n",
      "[2, 3, 4]\n",
      "[2, 3, 5]\n",
      "[2, 3, 6]\n",
      "[3, 4, 5]\n",
      "[3, 4, 6]\n",
      "[4, 5, 6]\n"
     ]
    }
   ],
   "source": [
    "def combinations(arr, n,k): \n",
    "    for i in range(n):\n",
    "        for j in range(i+k-1,n):\n",
    "            temp = arr[i:i+k-1]\n",
    "            temp.append(arr[j])\n",
    "            print(temp)\n",
    "\n",
    "arr = [1,2,3,4,5,6]\n",
    "k = 3\n",
    "# All combinations subset with size k\n",
    "combinations(arr,len(arr),k)"
   ]
  },
  {
   "cell_type": "code",
   "execution_count": 33,
   "id": "68e99327",
   "metadata": {},
   "outputs": [
    {
     "data": {
      "text/plain": [
       "True"
      ]
     },
     "execution_count": 33,
     "metadata": {},
     "output_type": "execute_result"
    }
   ],
   "source": [
    "{1,2,4}.issubset({1,2,3,4})"
   ]
  },
  {
   "cell_type": "code",
   "execution_count": 36,
   "id": "91534bb0",
   "metadata": {},
   "outputs": [
    {
     "data": {
      "text/plain": [
       "[<function __main__.<listcomp>.<lambda>(x=1)>,\n",
       " <function __main__.<listcomp>.<lambda>(x=2)>,\n",
       " <function __main__.<listcomp>.<lambda>(x=3)>,\n",
       " <function __main__.<listcomp>.<lambda>(x=4)>,\n",
       " <function __main__.<listcomp>.<lambda>(x=5)>,\n",
       " <function __main__.<listcomp>.<lambda>(x=6)>,\n",
       " <function __main__.<listcomp>.<lambda>(x=7)>,\n",
       " <function __main__.<listcomp>.<lambda>(x=8)>,\n",
       " <function __main__.<listcomp>.<lambda>(x=9)>,\n",
       " <function __main__.<listcomp>.<lambda>(x=10)>]"
      ]
     },
     "execution_count": 36,
     "metadata": {},
     "output_type": "execute_result"
    }
   ],
   "source": [
    "[lambda x=x: x*10 for x in range(1, 11)]"
   ]
  },
  {
   "cell_type": "code",
   "execution_count": 62,
   "id": "7b9e59dc",
   "metadata": {},
   "outputs": [],
   "source": [
    "import csv\n"
   ]
  },
  {
   "cell_type": "code",
   "execution_count": null,
   "id": "19a9776e",
   "metadata": {},
   "outputs": [],
   "source": [
    "with open(\"inputs\\\\kaggle.txt\",'w',newline='') as f:\n",
    "    for row in rows:"
   ]
  }
 ],
 "metadata": {
  "kernelspec": {
   "display_name": "Python 3 (ipykernel)",
   "language": "python",
   "name": "python3"
  },
  "language_info": {
   "codemirror_mode": {
    "name": "ipython",
    "version": 3
   },
   "file_extension": ".py",
   "mimetype": "text/x-python",
   "name": "python",
   "nbconvert_exporter": "python",
   "pygments_lexer": "ipython3",
   "version": "3.8.5"
  }
 },
 "nbformat": 4,
 "nbformat_minor": 5
}
